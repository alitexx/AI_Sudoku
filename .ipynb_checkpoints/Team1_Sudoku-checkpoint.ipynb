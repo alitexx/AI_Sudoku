{
 "cells": [
  {
   "cell_type": "code",
   "execution_count": 1,
   "id": "75096489",
   "metadata": {},
   "outputs": [],
   "source": [
    "## read from a text file. maybe ask user to enter the name of their text file and remind them to put it in the correct folder?\n",
    "## put content from text file into a variable named \"puzzle\". it should be a 2d array"
   ]
  },
  {
   "cell_type": "code",
   "execution_count": 2,
   "id": "93e8db5c",
   "metadata": {},
   "outputs": [
    {
     "name": "stdout",
     "output_type": "stream",
     "text": [
      "Solution:\n",
      "[5, 3, 4, 6, 7, 8, 9, 1, 2]\n",
      "[6, 7, 2, 1, 9, 5, 3, 4, 8]\n",
      "[1, 9, 8, 3, 4, 2, 5, 6, 7]\n",
      "[8, 5, 9, 7, 6, 1, 4, 2, 3]\n",
      "[4, 2, 6, 8, 5, 3, 7, 9, 1]\n",
      "[7, 1, 3, 9, 2, 4, 8, 5, 6]\n",
      "[9, 6, 1, 5, 3, 7, 2, 8, 4]\n",
      "[2, 8, 7, 4, 1, 9, 6, 3, 5]\n",
      "[3, 4, 5, 2, 8, 6, 1, 7, 9]\n"
     ]
    }
   ],
   "source": [
    "# Define Sudoku solver function\n",
    "def solve_sudoku(grid):# Implement backtracking algorithm\n",
    "    # Find an empty cell\n",
    "    empty_cell = find_empty_cell(grid)\n",
    "    if not empty_cell:\n",
    "        return True  # Puzzle solved\n",
    "\n",
    "    row, col = empty_cell\n",
    "\n",
    "    # Try placing digits from 1 to 9\n",
    "    for num in range(1, 10):\n",
    "        if is_valid_move(grid, row, col, num):\n",
    "            grid[row][col] = num\n",
    "\n",
    "            # Recursively solve the rest of the puzzle\n",
    "            if solve_sudoku(grid):\n",
    "                return True  # Solution found\n",
    "\n",
    "            # Backtrack\n",
    "            grid[row][col] = 0\n",
    "\n",
    "    return False  # No solution found\n",
    "\n",
    "\n",
    "def find_empty_cell(grid):\n",
    "    # Find the first empty cell (cell with value 0)\n",
    "    for row in range(9):\n",
    "        for col in range(9):\n",
    "            if grid[row][col] == 0:\n",
    "                return (row, col)\n",
    "    return None  # No empty cell found\n",
    "\n",
    "\n",
    "def is_valid_move(grid, row, col, num):\n",
    "    # Check if num is not already in the current row, column, or subgrid\n",
    "    return (\n",
    "        not used_in_row(grid, row, num)\n",
    "        and not used_in_col(grid, col, num)\n",
    "        and not used_in_subgrid(grid, row - row % 3, col - col % 3, num)\n",
    "    )\n",
    "\n",
    "\n",
    "def used_in_row(grid, row, num):\n",
    "    return num in grid[row]\n",
    "\n",
    "\n",
    "def used_in_col(grid, col, num):\n",
    "    return any(row[col] == num for row in grid)\n",
    "\n",
    "\n",
    "def used_in_subgrid(grid, start_row, start_col, num):\n",
    "    for row in range(3):\n",
    "        for col in range(3):\n",
    "            if grid[row + start_row][col + start_col] == num:\n",
    "                return True\n",
    "    return False\n",
    "\n",
    "\n",
    "# Example usage\n",
    "puzzle = [\n",
    "    [5, 3, 0, 0, 7, 0, 0, 0, 0],\n",
    "    [6, 0, 0, 1, 9, 5, 0, 0, 0],\n",
    "    [0, 9, 8, 0, 0, 0, 0, 6, 0],\n",
    "    [8, 0, 0, 0, 6, 0, 0, 0, 3],\n",
    "    [4, 0, 0, 8, 0, 3, 0, 0, 1],\n",
    "    [7, 0, 0, 0, 2, 0, 0, 0, 6],\n",
    "    [0, 6, 0, 0, 0, 0, 2, 8, 0],\n",
    "    [0, 0, 0, 4, 1, 9, 0, 0, 5],\n",
    "    [0, 0, 0, 0, 8, 0, 0, 7, 9],\n",
    "]\n",
    "\n",
    "if solve_sudoku(puzzle):\n",
    "    print(\"Solution:\")\n",
    "    for row in puzzle:\n",
    "        print(row)\n",
    "else:\n",
    "    print(\"No solution exists.\")"
   ]
  },
  {
   "cell_type": "code",
   "execution_count": null,
   "id": "d0a3d8bf",
   "metadata": {},
   "outputs": [],
   "source": [
    "## make it look pretty!! spit out final result"
   ]
  }
 ],
 "metadata": {
  "kernelspec": {
   "display_name": "Python 3 (ipykernel)",
   "language": "python",
   "name": "python3"
  },
  "language_info": {
   "codemirror_mode": {
    "name": "ipython",
    "version": 3
   },
   "file_extension": ".py",
   "mimetype": "text/x-python",
   "name": "python",
   "nbconvert_exporter": "python",
   "pygments_lexer": "ipython3",
   "version": "3.9.16"
  }
 },
 "nbformat": 4,
 "nbformat_minor": 5
}
